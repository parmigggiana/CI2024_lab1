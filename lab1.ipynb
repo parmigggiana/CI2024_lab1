{
 "cells": [
  {
   "cell_type": "code",
   "execution_count": 41,
   "metadata": {},
   "outputs": [],
   "source": [
    "from random import random, seed\n",
    "from itertools import product\n",
    "import matplotlib.pyplot as plt\n",
    "import numpy as np\n",
    "from math import sqrt\n",
    "\n",
    "from icecream import ic"
   ]
  },
  {
   "cell_type": "code",
   "execution_count": 42,
   "metadata": {},
   "outputs": [],
   "source": [
    "UNIVERSE_SIZE = 10_000\n",
    "NUM_SETS = 1_000\n",
    "DENSITY = 0.1\n",
    "\n",
    "rng = np.random.Generator(\n",
    "    np.random.PCG64([UNIVERSE_SIZE, NUM_SETS, int(10_000 * DENSITY)])\n",
    ")"
   ]
  },
  {
   "cell_type": "code",
   "execution_count": 43,
   "metadata": {},
   "outputs": [],
   "source": [
    "# DON'T EDIT THESE LINES!\n",
    "\n",
    "SETS = np.random.random((NUM_SETS, UNIVERSE_SIZE)) < DENSITY\n",
    "for s in range(UNIVERSE_SIZE):\n",
    "    if not np.any(SETS[:, s]):\n",
    "        SETS[np.random.randint(NUM_SETS), s] = True\n",
    "COSTS = pow(SETS.sum(axis=1), 1.1)"
   ]
  },
  {
   "cell_type": "code",
   "execution_count": 44,
   "metadata": {},
   "outputs": [],
   "source": [
    "valid = lambda solution: np.all(np.logical_or.reduce(SETS[solution]))\n",
    "cost = lambda solution: COSTS[solution].sum()"
   ]
  },
  {
   "cell_type": "code",
   "execution_count": 45,
   "metadata": {},
   "outputs": [
    {
     "name": "stderr",
     "output_type": "stream",
     "text": [
      "ic| tabu: []\n"
     ]
    },
    {
     "data": {
      "text/plain": [
       "[]"
      ]
     },
     "execution_count": 45,
     "metadata": {},
     "output_type": "execute_result"
    }
   ],
   "source": [
    "# Pre-processing\n",
    "\n",
    "tabu = []\n",
    "#for i, cur_set in enumerate(SETS):\n",
    "#    if cur_set.sum() == 0:\n",
    "#        # empty set\n",
    "#        tabu.append(i)\n",
    "#plt.imshow(SETS)\n",
    "ic(tabu)"
   ]
  },
  {
   "cell_type": "code",
   "execution_count": 46,
   "metadata": {},
   "outputs": [],
   "source": [
    "from numpy import ceil, floor, ndarray\n",
    "\n",
    "\n",
    "def plot(solution):\n",
    "    plt.figure(figsize=(10, 10))\n",
    "    plt.imshow(SETS[solution])\n",
    "    plt.show()\n",
    "\n",
    "\n",
    "def acceptable(geneset):\n",
    "    try:\n",
    "        return not any([geneset[t] for t in tabu]) and valid(geneset)\n",
    "    except TypeError:\n",
    "        return False\n",
    "\n",
    "\n",
    "def mutate(\n",
    "    genesets,\n",
    "    min_mutations_percent: float = 0.1,\n",
    "    max_mutations_percent: float = 0.1,\n",
    "):\n",
    "    \"\"\"Tweaks the solution by adding/removing a random set\"\"\"\n",
    "    for new_geneset in genesets:\n",
    "        mutating_genes = None\n",
    "        while (\n",
    "            mutating_genes is None\n",
    "            or any(gene in tabu for gene in mutating_genes)\n",
    "            or not valid(new_geneset)\n",
    "        ):\n",
    "            mutating_genes = rng.integers(\n",
    "                0,\n",
    "                NUM_SETS,\n",
    "                rng.integers(\n",
    "                    ceil(UNIVERSE_SIZE * min_mutations_percent),\n",
    "                    floor(UNIVERSE_SIZE * max_mutations_percent),\n",
    "                    endpoint=True,\n",
    "                ),\n",
    "            )\n",
    "            new_geneset[mutating_genes] = ~new_geneset[mutating_genes]\n",
    "\n",
    "    return genesets\n",
    "\n",
    "\n",
    "def cross(genesets):\n",
    "    new_genesets = np.empty_like(genesets)\n",
    "    for i in range(genesets.shape[0]):\n",
    "        new_geneset = None\n",
    "        while not valid(new_geneset):\n",
    "            mask = rng.random(NUM_SETS) < (rng.uniform(0.4, 0.6))\n",
    "            new_geneset1 = np.logical_and(\n",
    "                genesets[rng.integers(0, genesets.shape[0])], mask\n",
    "            )\n",
    "            new_geneset2 = np.logical_and(\n",
    "                genesets[rng.integers(0, genesets.shape[0])], np.logical_not(mask)\n",
    "            )\n",
    "            new_geneset = np.logical_or(new_geneset1, new_geneset2)\n",
    "\n",
    "        new_genesets[i] = new_geneset\n",
    "\n",
    "    return new_genesets\n",
    "\n",
    "\n",
    "def evolve(genesets: list, n: int = 1):\n",
    "    costs: ndarray = np.array([cost(g) for g in genesets])\n",
    "    sort_idx = np.argsort(costs)\n",
    "    new_genesets = np.empty_like(genesets)\n",
    "    genesets_to_keep = rng.integers(1, n // 2)\n",
    "    new_genesets[:genesets_to_keep] = genesets[\n",
    "        sort_idx[:genesets_to_keep]\n",
    "    ]  # Left some of the best ones unchanged\n",
    "\n",
    "    indexes: list[int] = []\n",
    "    probabilities: ndarray = costs - costs.min()\n",
    "    probabilities = 1 / (1 + probabilities)\n",
    "    probabilities = np.power(probabilities, 1 / 2)\n",
    "    probabilities /= probabilities.sum()\n",
    "    for _ in range(\n",
    "        n - genesets_to_keep\n",
    "    ):  # probability to keep is proportional to the cost for the rest\n",
    "        idx = rng.choice(range(costs.shape[0]), p=probabilities)\n",
    "        indexes.append(idx)\n",
    "    new_genesets[genesets_to_keep:] = genesets[indexes]\n",
    "\n",
    "    new_costs = np.concatenate((costs[sort_idx[:genesets_to_keep]], costs[indexes]))\n",
    "    return new_genesets, new_costs"
   ]
  },
  {
   "cell_type": "code",
   "execution_count": 47,
   "metadata": {},
   "outputs": [
    {
     "name": "stderr",
     "output_type": "stream",
     "text": [
      "ic| POPULATION_SIZE: 50\n"
     ]
    },
    {
     "data": {
      "text/plain": [
       "50"
      ]
     },
     "execution_count": 47,
     "metadata": {},
     "output_type": "execute_result"
    }
   ],
   "source": [
    "# Const\n",
    "POPULATION_SIZE = int(sqrt(UNIVERSE_SIZE)/2) or 1\n",
    "ROUNDS = 3\n",
    "ic(POPULATION_SIZE)"
   ]
  },
  {
   "cell_type": "code",
   "execution_count": 48,
   "metadata": {},
   "outputs": [
    {
     "ename": "KeyboardInterrupt",
     "evalue": "",
     "output_type": "error",
     "traceback": [
      "\u001b[0;31m---------------------------------------------------------------------------\u001b[0m",
      "\u001b[0;31mKeyboardInterrupt\u001b[0m                         Traceback (most recent call last)",
      "Cell \u001b[0;32mIn[48], line 37\u001b[0m\n\u001b[1;32m     34\u001b[0m stale_iterations \u001b[38;5;241m+\u001b[39m\u001b[38;5;241m=\u001b[39m \u001b[38;5;241m1\u001b[39m\n\u001b[1;32m     35\u001b[0m mutated_genesets \u001b[38;5;241m=\u001b[39m mutate(genesets, min_mutations_percent\u001b[38;5;241m=\u001b[39m\u001b[38;5;241m0.01\u001b[39m, max_mutations_percent\u001b[38;5;241m=\u001b[39m\u001b[38;5;241m0.02\u001b[39m)\n\u001b[0;32m---> 37\u001b[0m population \u001b[38;5;241m=\u001b[39m genesets \u001b[38;5;241m+\u001b[39m \u001b[43mcross\u001b[49m\u001b[43m(\u001b[49m\u001b[43mmutated_genesets\u001b[49m\u001b[43m)\u001b[49m\n\u001b[1;32m     38\u001b[0m genesets, costs \u001b[38;5;241m=\u001b[39m evolve(population, n\u001b[38;5;241m=\u001b[39mPOPULATION_SIZE)\n\u001b[1;32m     39\u001b[0m best_cost \u001b[38;5;241m=\u001b[39m \u001b[38;5;28mmin\u001b[39m(costs)\n",
      "Cell \u001b[0;32mIn[46], line 48\u001b[0m, in \u001b[0;36mcross\u001b[0;34m(genesets)\u001b[0m\n\u001b[1;32m     46\u001b[0m \u001b[38;5;28;01mfor\u001b[39;00m i \u001b[38;5;129;01min\u001b[39;00m \u001b[38;5;28mrange\u001b[39m(genesets\u001b[38;5;241m.\u001b[39mshape[\u001b[38;5;241m0\u001b[39m]):\n\u001b[1;32m     47\u001b[0m     new_geneset \u001b[38;5;241m=\u001b[39m \u001b[38;5;28;01mNone\u001b[39;00m\n\u001b[0;32m---> 48\u001b[0m     \u001b[38;5;28;01mwhile\u001b[39;00m \u001b[38;5;129;01mnot\u001b[39;00m \u001b[43mvalid\u001b[49m\u001b[43m(\u001b[49m\u001b[43mnew_geneset\u001b[49m\u001b[43m)\u001b[49m:\n\u001b[1;32m     49\u001b[0m         mask \u001b[38;5;241m=\u001b[39m rng\u001b[38;5;241m.\u001b[39mrandom(NUM_SETS) \u001b[38;5;241m<\u001b[39m (rng\u001b[38;5;241m.\u001b[39muniform(\u001b[38;5;241m0.4\u001b[39m, \u001b[38;5;241m0.6\u001b[39m))\n\u001b[1;32m     50\u001b[0m         new_geneset1 \u001b[38;5;241m=\u001b[39m np\u001b[38;5;241m.\u001b[39mlogical_and(\n\u001b[1;32m     51\u001b[0m             genesets[rng\u001b[38;5;241m.\u001b[39mintegers(\u001b[38;5;241m0\u001b[39m, genesets\u001b[38;5;241m.\u001b[39mshape[\u001b[38;5;241m0\u001b[39m])], mask\n\u001b[1;32m     52\u001b[0m         )\n",
      "Cell \u001b[0;32mIn[44], line 1\u001b[0m, in \u001b[0;36m<lambda>\u001b[0;34m(solution)\u001b[0m\n\u001b[0;32m----> 1\u001b[0m valid \u001b[38;5;241m=\u001b[39m \u001b[38;5;28;01mlambda\u001b[39;00m solution: np\u001b[38;5;241m.\u001b[39mall(np\u001b[38;5;241m.\u001b[39mlogical_or\u001b[38;5;241m.\u001b[39mreduce(SETS[solution]))\n\u001b[1;32m      2\u001b[0m cost \u001b[38;5;241m=\u001b[39m \u001b[38;5;28;01mlambda\u001b[39;00m solution: COSTS[solution]\u001b[38;5;241m.\u001b[39msum()\n",
      "\u001b[0;31mKeyboardInterrupt\u001b[0m: "
     ]
    }
   ],
   "source": [
    "from IPython.display import display, clear_output\n",
    "import time\n",
    "\n",
    "fig1 = plt.figure(figsize=(10, 10))\n",
    "ax1 = fig1.add_subplot(111)\n",
    "#ax1.scatter([])\n",
    "\n",
    "best_geneset_overall = None\n",
    "best_cost_overall = float(\"inf\")\n",
    "best_round = 0\n",
    "best_round_iterations = 0\n",
    "total_iterations = 0\n",
    "\n",
    "start = time.time()\n",
    "for round in range(1, ROUNDS + 1):\n",
    "    # Init\n",
    "    genesets = np.empty((POPULATION_SIZE, NUM_SETS), dtype=bool)\n",
    "    for i in range(POPULATION_SIZE):\n",
    "        geneset = None\n",
    "        high = 0\n",
    "        while not valid(geneset):\n",
    "            geneset = rng.random(NUM_SETS) < (rng.uniform(0.1, 0.3 + high))\n",
    "            high += 0.05\n",
    "        genesets[i] = geneset\n",
    "\n",
    "    costs = np.array([cost(g) for g in genesets])\n",
    "    best_cost = min(costs)\n",
    "    last_best_cost = best_cost\n",
    "    iters = 0\n",
    "    stale_iterations = 0\n",
    "    history = [costs]\n",
    "    while True:\n",
    "        iters += 1\n",
    "        stale_iterations += 1\n",
    "        mutated_genesets = mutate(genesets, min_mutations_percent=0.01, max_mutations_percent=0.02)\n",
    "\n",
    "        population = genesets + cross(mutated_genesets)\n",
    "        genesets, costs = evolve(population, n=POPULATION_SIZE)\n",
    "        best_cost = min(costs)\n",
    "\n",
    "        if best_cost < last_best_cost:\n",
    "            stale_iterations = 0\n",
    "            last_best_cost = best_cost\n",
    "\n",
    "        history.append(costs)\n",
    "        if iters % 50 == 0:\n",
    "            ax1.cla()\n",
    "            ax1.set_title(f\"Round {round}/{ROUNDS} - Best cost: {last_best_cost}\")\n",
    "            # Scatter plot - history is a list of arrays\n",
    "            # I want a point for each element in the array\n",
    "            # I want the x-axis to be the index of the array\n",
    "            # I want the y-axis to be the value of the array\n",
    "            for i, h in enumerate(history):\n",
    "                ax1.scatter([i]*len(h), h, color='blue', alpha=1/POPULATION_SIZE, marker='.')\n",
    "            display(fig1)\n",
    "            clear_output(wait=True)\n",
    "            plt.pause(0.1)\n",
    "\n",
    "        if best_cost <= UNIVERSE_SIZE:\n",
    "            break\n",
    "        if iters > UNIVERSE_SIZE*2 and stale_iterations/iters > 0.5:\n",
    "            break\n",
    "    total_iterations += iters\n",
    "\n",
    "    if last_best_cost < best_cost_overall:\n",
    "        best_cost_overall = last_best_cost\n",
    "        best_geneset_overall = genesets[0]\n",
    "        best_round = round\n",
    "        best_round_iterations = iters\n",
    "    if best_cost <= UNIVERSE_SIZE:\n",
    "        print(\"Found optimal solution\")\n",
    "        break\n",
    "elapsed = time.time() - start"
   ]
  },
  {
   "cell_type": "code",
   "execution_count": null,
   "metadata": {},
   "outputs": [],
   "source": [
    "minutes = int(elapsed // 60)\n",
    "seconds = elapsed % 60\n",
    "print(f\"Elapsed time: {minutes}m {seconds:.2f}s\")\n",
    "print(f\"Best cost: {best_cost_overall}\")\n",
    "print(f\"Total number of iterations: {total_iterations}\")\n",
    "print(f\"Best round: {best_round}{ROUNDS}\")\n",
    "print(f\"Iterations in round {best_round}: {best_round_iterations}\")\n",
    "\n",
    "print(f\"Selected sets: {list(np.nonzero(best_geneset_overall))}\")\n",
    "#plt.imshow(SETS[best_geneset_overall])\n",
    "\n",
    "if not valid(best_geneset_overall):\n",
    "    print(\"Something terrible happened!\")"
   ]
  }
 ],
 "metadata": {
  "kernelspec": {
   "display_name": "Python 3",
   "language": "python",
   "name": "python3"
  },
  "language_info": {
   "codemirror_mode": {
    "name": "ipython",
    "version": 3
   },
   "file_extension": ".py",
   "mimetype": "text/x-python",
   "name": "python",
   "nbconvert_exporter": "python",
   "pygments_lexer": "ipython3",
   "version": "3.11.9"
  }
 },
 "nbformat": 4,
 "nbformat_minor": 2
}
