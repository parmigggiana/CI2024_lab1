{
 "cells": [
  {
   "cell_type": "code",
   "execution_count": 115,
   "metadata": {},
   "outputs": [],
   "source": [
    "from random import random, seed\n",
    "from itertools import product\n",
    "import matplotlib.pyplot as plt\n",
    "import numpy as np\n",
    "from math import sqrt\n",
    "\n",
    "from icecream import ic"
   ]
  },
  {
   "cell_type": "code",
   "execution_count": 116,
   "metadata": {},
   "outputs": [],
   "source": [
    "UNIVERSE_SIZE = 100_000\n",
    "NUM_SETS = 10_000\n",
    "DENSITY = 0.1\n",
    "\n",
    "rng = np.random.Generator(\n",
    "    np.random.PCG64([UNIVERSE_SIZE, NUM_SETS, int(10_000 * DENSITY)])\n",
    ")"
   ]
  },
  {
   "cell_type": "code",
   "execution_count": 117,
   "metadata": {},
   "outputs": [],
   "source": [
    "# DON'T EDIT THESE LINES!\n",
    "\n",
    "SETS = np.random.random((NUM_SETS, UNIVERSE_SIZE)) < DENSITY\n",
    "for s in range(UNIVERSE_SIZE):\n",
    "    if not np.any(SETS[:, s]):\n",
    "        SETS[np.random.randint(NUM_SETS), s] = True\n",
    "COSTS = pow(SETS.sum(axis=1), 1.1)"
   ]
  },
  {
   "cell_type": "code",
   "execution_count": 118,
   "metadata": {},
   "outputs": [],
   "source": [
    "valid = lambda solution: np.all(np.logical_or.reduce(SETS[solution]))\n",
    "cost = lambda solution: COSTS[solution].sum()"
   ]
  },
  {
   "cell_type": "code",
   "execution_count": 119,
   "metadata": {},
   "outputs": [
    {
     "name": "stderr",
     "output_type": "stream",
     "text": [
      "ic| tabu: []\n"
     ]
    },
    {
     "data": {
      "text/plain": [
       "[]"
      ]
     },
     "execution_count": 119,
     "metadata": {},
     "output_type": "execute_result"
    }
   ],
   "source": [
    "# Pre-processing\n",
    "\n",
    "tabu = []\n",
    "#for i, cur_set in enumerate(SETS):\n",
    "#    if cur_set.sum() == 0:\n",
    "#        # empty set\n",
    "#        tabu.append(i)\n",
    "#plt.imshow(SETS)\n",
    "ic(tabu)"
   ]
  },
  {
   "cell_type": "code",
   "execution_count": 120,
   "metadata": {},
   "outputs": [],
   "source": [
    "from numpy import ceil, floor\n",
    "\n",
    "\n",
    "def plot(solution):\n",
    "    plt.figure(figsize=(10, 10))\n",
    "    plt.imshow(SETS[solution])\n",
    "    plt.show()\n",
    "\n",
    "def acceptable(geneset):\n",
    "    try:\n",
    "        return not any([geneset[t] for t in tabu]) and valid(geneset)\n",
    "    except TypeError:\n",
    "        return False\n",
    "\n",
    "\n",
    "def mutate(genesets, n: int = 1, min_mutations_percent: float = 0.1, max_mutations_percent: float = 0.1):\n",
    "    \"\"\"Tweaks the solution by adding/removing a random set\"\"\"\n",
    "    for new_geneset in genesets:\n",
    "        mutating_genes = None\n",
    "        while mutating_genes is None or any(gene in tabu for gene in mutating_genes) or not valid(new_geneset):\n",
    "            mutating_genes = rng.integers(0, NUM_SETS, rng.integers(ceil(UNIVERSE_SIZE*min_mutations_percent), floor(UNIVERSE_SIZE*max_mutations_percent), endpoint=True))\n",
    "            new_geneset[mutating_genes] = ~new_geneset[mutating_genes]\n",
    "\n",
    "    return genesets\n",
    "\n",
    "MAX_RETRIES = int(sqrt(UNIVERSE_SIZE)/2) or 1\n",
    "def evolve(genesets: list, n: int = 1):\n",
    "    costs = [cost(g) for g in genesets]\n",
    "    sort_idx = np.argsort(costs)\n",
    "    new_genesets = []\n",
    "    new_genesets.append(genesets[sort_idx[0]]) # Left the best one unmutated\n",
    "\n",
    "    # Randomly cross the best geneset with the second best\n",
    "    for _ in range(1, n):\n",
    "        new_geneset = None\n",
    "        retries = 0\n",
    "        while not valid(new_geneset) and retries < MAX_RETRIES:\n",
    "            retries += 1\n",
    "            mask = rng.random(NUM_SETS) < (rng.uniform(0.5, 1))\n",
    "            new_geneset1 = np.logical_and(genesets[sort_idx[0]], mask)\n",
    "            new_geneset2 = np.logical_and(genesets[sort_idx[1]], np.logical_not(mask))\n",
    "            new_geneset = np.logical_or(new_geneset1, new_geneset2)\n",
    "        if retries == MAX_RETRIES:\n",
    "            new_geneset = genesets[sort_idx[rng.integers(0,1,endpoint=True)]]\n",
    "            # If the crossover takes too long just take one of the parents at random\n",
    "\n",
    "        new_genesets.append(new_geneset)\n",
    "\n",
    "    return new_genesets, costs[sort_idx[0]]"
   ]
  },
  {
   "cell_type": "code",
   "execution_count": 121,
   "metadata": {},
   "outputs": [
    {
     "name": "stderr",
     "output_type": "stream",
     "text": [
      "ic| POPULATION_SIZE: 316\n"
     ]
    },
    {
     "data": {
      "text/plain": [
       "316"
      ]
     },
     "execution_count": 121,
     "metadata": {},
     "output_type": "execute_result"
    }
   ],
   "source": [
    "# Const\n",
    "POPULATION_SIZE = int(sqrt(UNIVERSE_SIZE)/2) or 1\n",
    "ROUNDS = 3\n",
    "ic(POPULATION_SIZE)"
   ]
  },
  {
   "cell_type": "code",
   "execution_count": 122,
   "metadata": {},
   "outputs": [],
   "source": [
    "from IPython.display import display, clear_output\n",
    "import time\n",
    "\n",
    "fig1 = plt.figure(figsize=(10, 10))\n",
    "ax1 = fig1.add_subplot(111)\n",
    "#ax1.scatter([])\n",
    "\n",
    "best_geneset_overall = None\n",
    "best_cost_overall = float(\"inf\")\n",
    "best_round = 0\n",
    "best_round_iterations = 0\n",
    "total_iterations = 0\n",
    "\n",
    "start = time.time()\n",
    "for round in range(1, ROUNDS + 1):\n",
    "    # Init\n",
    "    genesets = []\n",
    "    for _ in range(POPULATION_SIZE):\n",
    "        geneset = rng.random(NUM_SETS) < (rng.uniform(0.4, 0.6))\n",
    "        while not acceptable(geneset):\n",
    "            geneset = rng.random(NUM_SETS) < (rng.uniform(0.4, 0.6))\n",
    "        genesets.append(geneset)\n",
    "\n",
    "    best_cost = min([cost(g) for g in genesets])\n",
    "    last_best_cost = best_cost\n",
    "    i = 0\n",
    "    j = 0\n",
    "    history = [best_cost]\n",
    "    while True:\n",
    "        i += 1\n",
    "        j += 1\n",
    "        mutated_genesets = mutate(genesets, n=POPULATION_SIZE, min_mutations_percent=0.01, max_mutations_percent=0.02)\n",
    "        population = genesets + mutated_genesets\n",
    "        genesets, best_cost = evolve(population, n=POPULATION_SIZE)\n",
    "\n",
    "        if best_cost < last_best_cost:\n",
    "            j = 0\n",
    "            last_best_cost = best_cost\n",
    "\n",
    "        history.append(last_best_cost)\n",
    "        if i % 10 == 0:\n",
    "            ax1.cla()\n",
    "            ax1.set_title(f\"Round {round}/{ROUNDS}\")\n",
    "            ax1.plot(history)\n",
    "            display(fig1)\n",
    "            clear_output(wait=True)\n",
    "            plt.pause(0.1)\n",
    "\n",
    "        if best_cost <= UNIVERSE_SIZE:\n",
    "            break\n",
    "        if i > UNIVERSE_SIZE*2 and j/i > 0.5:\n",
    "            break\n",
    "    total_iterations += i\n",
    "\n",
    "    if last_best_cost < best_cost_overall:\n",
    "        best_cost_overall = last_best_cost\n",
    "        best_geneset_overall = genesets[0]\n",
    "        best_round = round\n",
    "        best_round_iterations = i\n",
    "    if best_cost <= UNIVERSE_SIZE:\n",
    "        print(\"Found optimal solution\")\n",
    "        break\n",
    "elapsed = time.time() - start"
   ]
  },
  {
   "cell_type": "code",
   "execution_count": 26,
   "metadata": {},
   "outputs": [
    {
     "name": "stdout",
     "output_type": "stream",
     "text": [
      "Elapsed time: 0m 19.81s\n",
      "Best cost: 303.1047662678675\n",
      "Total number of iterations: 303\n",
      "Best round: 13\n",
      "Iterations in round 1: 101\n",
      "Selected sets: [array([0, 1, 2, 3, 4, 5, 6, 7, 8, 9])]\n"
     ]
    }
   ],
   "source": [
    "minutes = int(elapsed // 60)\n",
    "seconds = elapsed % 60\n",
    "print(f\"Elapsed time: {minutes}m {seconds:.2f}s\")\n",
    "print(f\"Best cost: {best_cost_overall}\")\n",
    "print(f\"Total number of iterations: {total_iterations}\")\n",
    "print(f\"Best round: {best_round}{ROUNDS}\")\n",
    "print(f\"Iterations in round {best_round}: {best_round_iterations}\")\n",
    "\n",
    "print(f\"Selected sets: {list(np.nonzero(best_geneset_overall))}\")\n",
    "#plt.imshow(SETS[best_geneset_overall])\n",
    "\n",
    "if not valid(best_geneset_overall):\n",
    "    print(\"Something terrible happened!\")"
   ]
  }
 ],
 "metadata": {
  "kernelspec": {
   "display_name": "Python 3",
   "language": "python",
   "name": "python3"
  },
  "language_info": {
   "codemirror_mode": {
    "name": "ipython",
    "version": 3
   },
   "file_extension": ".py",
   "mimetype": "text/x-python",
   "name": "python",
   "nbconvert_exporter": "python",
   "pygments_lexer": "ipython3",
   "version": "3.11.9"
  }
 },
 "nbformat": 4,
 "nbformat_minor": 2
}
