{
 "cells": [
  {
   "cell_type": "code",
   "execution_count": 106,
   "metadata": {},
   "outputs": [],
   "source": [
    "from random import random, seed\n",
    "from itertools import product\n",
    "import matplotlib.pyplot as plt\n",
    "import numpy as np\n",
    "from math import sqrt\n",
    "\n",
    "from icecream import ic"
   ]
  },
  {
   "cell_type": "code",
   "execution_count": 107,
   "metadata": {},
   "outputs": [],
   "source": [
    "UNIVERSE_SIZE = 10000\n",
    "NUM_SETS = 1000\n",
    "DENSITY = 0.1\n",
    "\n",
    "rng = np.random.Generator(\n",
    "    np.random.PCG64([UNIVERSE_SIZE, NUM_SETS, int(10_000 * DENSITY)])\n",
    ")"
   ]
  },
  {
   "cell_type": "code",
   "execution_count": 108,
   "metadata": {},
   "outputs": [],
   "source": [
    "# DON'T EDIT THESE LINES!\n",
    "\n",
    "SETS = np.random.random((NUM_SETS, UNIVERSE_SIZE)) < DENSITY\n",
    "for s in range(UNIVERSE_SIZE):\n",
    "    if not np.any(SETS[:, s]):\n",
    "        SETS[np.random.randint(NUM_SETS), s] = True\n",
    "COSTS = pow(SETS.sum(axis=1), 1.1)"
   ]
  },
  {
   "cell_type": "code",
   "execution_count": 109,
   "metadata": {},
   "outputs": [],
   "source": [
    "valid = lambda solution: np.all(np.logical_or.reduce(SETS[solution]))\n",
    "cost = lambda solution: COSTS[solution].sum()"
   ]
  },
  {
   "cell_type": "code",
   "execution_count": 115,
   "metadata": {},
   "outputs": [
    {
     "name": "stderr",
     "output_type": "stream",
     "text": [
      "ic| tabu: []\n"
     ]
    },
    {
     "data": {
      "text/plain": [
       "[]"
      ]
     },
     "execution_count": 115,
     "metadata": {},
     "output_type": "execute_result"
    },
    {
     "data": {
      "image/png": "[encoded data removed]",
      "text/plain": [
       "<Figure size 640x480 with 1 Axes>"
      ]
     },
     "metadata": {},
     "output_type": "display_data"
    }
   ],
   "source": [
    "# Pre-processing\n",
    "\n",
    "tabu = []\n",
    "for i, cur_set in enumerate(SETS):\n",
    "    if cur_set.sum() == 0:\n",
    "        # empty set\n",
    "        tabu.append(i)\n",
    "plt.imshow(SETS)\n",
    "ic(tabu)"
   ]
  },
  {
   "cell_type": "code",
   "execution_count": 111,
   "metadata": {},
   "outputs": [],
   "source": [
    "from numpy import ceil, floor, ndarray\n",
    "\n",
    "\n",
    "def plot(solution):\n",
    "    plt.figure(figsize=(10, 10))\n",
    "    plt.imshow(SETS[solution])\n",
    "    plt.show()\n",
    "\n",
    "\n",
    "def acceptable(geneset):\n",
    "    try:\n",
    "        return not any([geneset[t] for t in tabu]) and valid(geneset)\n",
    "    except TypeError:\n",
    "        return False\n",
    "\n",
    "\n",
    "def mutate(\n",
    "    genesets,\n",
    "    min_mutations_percent: float = 0.1,\n",
    "    max_mutations_percent: float = 0.1,\n",
    "):\n",
    "    \"\"\"Tweaks the solution by adding/removing a random set\"\"\"\n",
    "    new_genesets = genesets.copy()\n",
    "    for new_geneset in new_genesets:\n",
    "        mutating_genes = None\n",
    "        while (\n",
    "            mutating_genes is None\n",
    "            or any(gene in tabu for gene in mutating_genes)\n",
    "            or not valid(new_geneset)\n",
    "        ):\n",
    "            mutating_genes = rng.integers(\n",
    "                0,\n",
    "                NUM_SETS,\n",
    "                rng.integers(\n",
    "                    ceil(UNIVERSE_SIZE * min_mutations_percent),\n",
    "                    floor(UNIVERSE_SIZE * max_mutations_percent),\n",
    "                    endpoint=True,\n",
    "                ),\n",
    "            )\n",
    "            new_geneset[mutating_genes] = ~new_geneset[mutating_genes]\n",
    "\n",
    "    return new_genesets\n",
    "\n",
    "\n",
    "def cross(genesets):\n",
    "    new_genesets = np.empty_like(genesets)\n",
    "    for i in range(genesets.shape[0]):\n",
    "        new_geneset = None\n",
    "        while not valid(new_geneset):\n",
    "            mask = rng.random(NUM_SETS) < (rng.uniform(0.4, 0.6))\n",
    "            new_geneset1 = np.logical_and(\n",
    "                genesets[rng.integers(0, genesets.shape[0])], mask\n",
    "            )\n",
    "            new_geneset2 = np.logical_and(\n",
    "                genesets[rng.integers(0, genesets.shape[0])], np.logical_not(mask)\n",
    "            )\n",
    "            new_geneset = np.logical_or(new_geneset1, new_geneset2)\n",
    "\n",
    "        new_genesets[i] = new_geneset\n",
    "\n",
    "    return new_genesets\n",
    "\n",
    "\n",
    "def select(genesets: list, n: int = 1):\n",
    "    costs: ndarray = np.array([cost(g) for g in genesets])\n",
    "    sort_idx = np.argsort(costs)\n",
    "    new_genesets = np.empty((n, NUM_SETS), dtype=bool)\n",
    "    genesets_to_keep = rng.integers(1, n//4) if n > 8 else 1\n",
    "    new_genesets[:genesets_to_keep] = genesets[\n",
    "        sort_idx[:genesets_to_keep]\n",
    "    ]  # Left some of the best ones unchanged, at most half\n",
    "    indexes: list[int] = []\n",
    "    probabilities: ndarray = costs - costs.min()\n",
    "    probabilities = 1 / (1 + probabilities)\n",
    "    probabilities /= probabilities.sum()\n",
    "    for _ in range(\n",
    "        n - genesets_to_keep\n",
    "    ):  # probability to keep is proportional to the cost for the rest\n",
    "        idx = rng.choice(range(costs.shape[0]), p=probabilities)\n",
    "        indexes.append(idx)\n",
    "    new_genesets[genesets_to_keep:] = genesets[indexes]\n",
    "\n",
    "    new_costs = np.concatenate((costs[sort_idx[:genesets_to_keep]], costs[indexes]))\n",
    "    return new_genesets, new_costs"
   ]
  },
  {
   "cell_type": "code",
   "execution_count": 112,
   "metadata": {},
   "outputs": [
    {
     "name": "stdout",
     "output_type": "stream",
     "text": [
      "POPULATION_SIZE = 5\n",
      "Mutating genes: 1 to 5\n"
     ]
    }
   ],
   "source": [
    "# Const\n",
    "ROUNDS = 3\n",
    "MUTATION_PERCENT = (0.01, 0.05)\n",
    "\n",
    "POPULATION_SIZE = int(sqrt(UNIVERSE_SIZE)/2) or 1\n",
    "print(f\"{POPULATION_SIZE = }\")\n",
    "print(f\"Mutating genes: {UNIVERSE_SIZE * MUTATION_PERCENT[0]:.0f} to {UNIVERSE_SIZE * MUTATION_PERCENT[1]:.0f}\")"
   ]
  },
  {
   "cell_type": "code",
   "execution_count": 113,
   "metadata": {},
   "outputs": [
    {
     "data": {
      "image/png": "[encoded data removed]",
      "text/plain": [
       "<Figure size 1000x1000 with 1 Axes>"
      ]
     },
     "metadata": {},
     "output_type": "display_data"
    }
   ],
   "source": [
    "from IPython.display import display, clear_output\n",
    "import time\n",
    "\n",
    "fig1 = plt.figure(figsize=(10, 10))\n",
    "ax1 = fig1.add_subplot(111)\n",
    "#ax1.scatter([])\n",
    "\n",
    "best_geneset_overall = None\n",
    "best_cost_overall = float(\"inf\")\n",
    "best_round = 0\n",
    "best_round_iterations = 0\n",
    "total_iterations = 0\n",
    "\n",
    "start = time.time()\n",
    "for round in range(1, ROUNDS + 1):\n",
    "    # Init\n",
    "    genesets = np.empty((POPULATION_SIZE, NUM_SETS), dtype=bool)\n",
    "    for i in range(POPULATION_SIZE):\n",
    "        geneset = None\n",
    "        while not valid(geneset):\n",
    "            geneset = rng.random(NUM_SETS) < 0.5\n",
    "        genesets[i] = geneset\n",
    "    costs = np.array([cost(g) for g in genesets])\n",
    "    best_cost = min(costs)\n",
    "    last_best_cost = best_cost\n",
    "    iters = 0\n",
    "    stale_iterations = 0\n",
    "    history = [costs]\n",
    "    while True:\n",
    "        iters += 1\n",
    "        stale_iterations += 1\n",
    "        mutated_genesets = mutate(genesets, min_mutations_percent=MUTATION_PERCENT[0], max_mutations_percent=MUTATION_PERCENT[1])\n",
    "        population = np.concatenate([genesets, cross(mutated_genesets)], axis=0)\n",
    "        genesets, costs = select(population, n=POPULATION_SIZE)\n",
    "        best_cost = min(costs)\n",
    "\n",
    "        if best_cost < last_best_cost:\n",
    "            stale_iterations = 0\n",
    "            last_best_cost = best_cost\n",
    "\n",
    "        history.append(costs)\n",
    "        if iters % 10 == 0:\n",
    "            ax1.cla()\n",
    "            ax1.set_title(f\"Round {round}/{ROUNDS} - Best cost: {last_best_cost:.2f}\")\n",
    "            # Scatter plot - history is a list of arrays\n",
    "            # I want a point for each element in the array\n",
    "            # I want the x-axis to be the index of the array\n",
    "            # I want the y-axis to be the value of the array\n",
    "            for i, h in enumerate(history):\n",
    "                ax1.scatter([i]*len(h), h, color='blue', alpha=1/POPULATION_SIZE, marker='.')\n",
    "                ax1.set_yscale('log')\n",
    "            display(fig1)\n",
    "            clear_output(wait=True)\n",
    "            plt.pause(0.1)\n",
    "\n",
    "        if best_cost <= UNIVERSE_SIZE:\n",
    "            break\n",
    "        if iters > UNIVERSE_SIZE and stale_iterations/iters > 0.3:\n",
    "            break\n",
    "    total_iterations += iters\n",
    "\n",
    "    if last_best_cost < best_cost_overall:\n",
    "        best_cost_overall = last_best_cost\n",
    "        best_geneset_overall = genesets[0]\n",
    "        best_round = round\n",
    "        best_round_iterations = iters\n",
    "    if best_cost <= UNIVERSE_SIZE:\n",
    "        print(\"Found optimal solution\")\n",
    "        break\n",
    "elapsed = time.time() - start"
   ]
  },
  {
   "cell_type": "code",
   "execution_count": 114,
   "metadata": {},
   "outputs": [
    {
     "name": "stdout",
     "output_type": "stream",
     "text": [
      "Elapsed time: 0m 29.66s\n",
      "Best cost: 297.055688135321\n",
      "Total number of iterations: 303\n",
      "Best round: 1/3\n",
      "Iterations in round 1: 101\n",
      "Selected sets: [array([0, 1, 2, 3, 4, 5, 6, 7, 8, 9])]\n"
     ]
    }
   ],
   "source": [
    "minutes = int(elapsed // 60)\n",
    "seconds = elapsed % 60\n",
    "print(f\"Elapsed time: {minutes}m {seconds:.2f}s\")\n",
    "print(f\"Best cost: {best_cost_overall}\")\n",
    "print(f\"Total number of iterations: {total_iterations}\")\n",
    "print(f\"Best round: {best_round}/{ROUNDS}\")\n",
    "print(f\"Iterations in round {best_round}: {best_round_iterations}\")\n",
    "\n",
    "print(f\"Selected sets: {list(np.nonzero(best_geneset_overall))}\")\n",
    "#plt.imshow(SETS[best_geneset_overall])\n",
    "\n",
    "if not valid(best_geneset_overall):\n",
    "    print(\"Something terrible happened!\")"
   ]
  }
 ],
 "metadata": {
  "kernelspec": {
   "display_name": "Python 3",
   "language": "python",
   "name": "python3"
  },
  "language_info": {
   "codemirror_mode": {
    "name": "ipython",
    "version": 3
   },
   "file_extension": ".py",
   "mimetype": "text/x-python",
   "name": "python",
   "nbconvert_exporter": "python",
   "pygments_lexer": "ipython3",
   "version": "3.11.9"
  }
 },
 "nbformat": 4,
 "nbformat_minor": 2
}
