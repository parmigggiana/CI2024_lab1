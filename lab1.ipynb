{
 "cells": [
  {
   "cell_type": "code",
   "execution_count": 95,
   "metadata": {},
   "outputs": [],
   "source": [
    "from random import random, seed\n",
    "from itertools import product\n",
    "import matplotlib.pyplot as plt\n",
    "import numpy as np\n",
    "from math import sqrt\n",
    "\n",
    "from icecream import ic"
   ]
  },
  {
   "cell_type": "code",
   "execution_count": 96,
   "metadata": {},
   "outputs": [],
   "source": [
    "UNIVERSE_SIZE = 10000\n",
    "NUM_SETS = 1000\n",
    "DENSITY = 0.2\n",
    "\n",
    "rng = np.random.Generator(\n",
    "    np.random.PCG64([UNIVERSE_SIZE, NUM_SETS, int(10_000 * DENSITY)])\n",
    ")"
   ]
  },
  {
   "cell_type": "code",
   "execution_count": 97,
   "metadata": {},
   "outputs": [],
   "source": [
    "# DON'T EDIT THESE LINES!\n",
    "\n",
    "SETS = np.random.random((NUM_SETS, UNIVERSE_SIZE)) < DENSITY\n",
    "for s in range(UNIVERSE_SIZE):\n",
    "    if not np.any(SETS[:, s]):\n",
    "        SETS[np.random.randint(NUM_SETS), s] = True\n",
    "COSTS = pow(SETS.sum(axis=1), 1.1)"
   ]
  },
  {
   "cell_type": "code",
   "execution_count": 98,
   "metadata": {},
   "outputs": [],
   "source": [
    "valid = lambda solution: np.all(np.logical_or.reduce(SETS[solution]))\n",
    "cost = lambda solution: COSTS[solution].sum()"
   ]
  },
  {
   "cell_type": "code",
   "execution_count": 99,
   "metadata": {},
   "outputs": [
    {
     "name": "stderr",
     "output_type": "stream",
     "text": [
      "ic| tabu: []\n"
     ]
    },
    {
     "data": {
      "text/plain": [
       "[]"
      ]
     },
     "execution_count": 99,
     "metadata": {},
     "output_type": "execute_result"
    }
   ],
   "source": [
    "# Pre-processing\n",
    "\n",
    "tabu = []\n",
    "for i, cur_set in enumerate(SETS):\n",
    "    if cur_set.sum() == 0:\n",
    "        # empty set\n",
    "        tabu.append(i)\n",
    "# plt.imshow(SETS)\n",
    "ic(tabu)"
   ]
  },
  {
   "cell_type": "code",
   "execution_count": 100,
   "metadata": {},
   "outputs": [],
   "source": [
    "from numpy import ceil, floor, ndarray\n",
    "\n",
    "\n",
    "def plot(solution):\n",
    "    plt.figure(figsize=(10, 10))\n",
    "    plt.imshow(SETS[solution])\n",
    "    plt.show()\n",
    "\n",
    "\n",
    "def acceptable(geneset):\n",
    "    try:\n",
    "        return not any([geneset[t] for t in tabu]) and valid(geneset)\n",
    "    except TypeError:\n",
    "        return False\n",
    "\n",
    "\n",
    "def mutate(\n",
    "    genesets,\n",
    "    min_mutations_percent: float = 0.1,\n",
    "    max_mutations_percent: float = 0.1,\n",
    "):\n",
    "    \"\"\"Tweaks the solution by adding/removing a random set\"\"\"\n",
    "    new_genesets = genesets.copy()\n",
    "    for new_geneset in new_genesets:\n",
    "        mutating_genes = None\n",
    "        while (\n",
    "            mutating_genes is None\n",
    "            or any(gene in tabu for gene in mutating_genes)\n",
    "            or not valid(new_geneset)\n",
    "        ):\n",
    "            mutating_genes = rng.integers(\n",
    "                0,\n",
    "                NUM_SETS,\n",
    "                rng.integers(\n",
    "                    ceil(UNIVERSE_SIZE * min_mutations_percent),\n",
    "                    floor(UNIVERSE_SIZE * max_mutations_percent),\n",
    "                    endpoint=True,\n",
    "                ),\n",
    "            )\n",
    "            new_geneset[mutating_genes] = ~new_geneset[mutating_genes]\n",
    "\n",
    "    return new_genesets\n",
    "\n",
    "\n",
    "def cross(genesets):\n",
    "    new_genesets = np.empty_like(genesets)\n",
    "    for i in range(genesets.shape[0]):\n",
    "        new_geneset = None\n",
    "        while not valid(new_geneset):\n",
    "            mask = rng.random(NUM_SETS) < (rng.uniform(0.3, 0.7))\n",
    "            new_geneset1 = np.logical_and(\n",
    "                genesets[rng.integers(0, genesets.shape[0])], mask\n",
    "            )\n",
    "            new_geneset2 = np.logical_and(\n",
    "                genesets[rng.integers(0, genesets.shape[0])], np.logical_not(mask)\n",
    "            )\n",
    "            new_geneset = np.logical_or(new_geneset1, new_geneset2)\n",
    "\n",
    "        new_genesets[i] = new_geneset\n",
    "\n",
    "    return new_genesets\n",
    "\n",
    "\n",
    "def select(genesets: list, n: int = 1):\n",
    "    costs: ndarray = np.array([cost(g) for g in genesets])\n",
    "    sort_idx = np.argsort(costs)\n",
    "    new_genesets = np.empty((n, NUM_SETS), dtype=bool)\n",
    "    genesets_to_keep = rng.integers(1, n // 4) if n > 8 else 1\n",
    "    new_genesets[:genesets_to_keep] = genesets[\n",
    "        sort_idx[:genesets_to_keep]\n",
    "    ]  # Left some of the best ones unchanged, at most half\n",
    "    probabilities: ndarray = costs - costs.min()\n",
    "    probabilities = 1 / (1 + probabilities)\n",
    "    probabilities /= probabilities.sum()\n",
    "    indexes = rng.choice(\n",
    "        range(costs.shape[0]),\n",
    "        p=probabilities,\n",
    "        size=n - genesets_to_keep,\n",
    "        replace=False,\n",
    "        shuffle=False,\n",
    "    )\n",
    "    new_genesets[genesets_to_keep:] = genesets[indexes]\n",
    "\n",
    "    new_costs = np.concatenate((costs[sort_idx[:genesets_to_keep]], costs[indexes]))\n",
    "    return new_genesets, new_costs"
   ]
  },
  {
   "cell_type": "code",
   "execution_count": 101,
   "metadata": {},
   "outputs": [
    {
     "name": "stdout",
     "output_type": "stream",
     "text": [
      "POPULATION_SIZE = 25\n",
      "Mutating genes: 100 to 300\n"
     ]
    }
   ],
   "source": [
    "# Const\n",
    "ROUNDS = 5\n",
    "MUTATION_PERCENT = (0.01, 0.03)\n",
    "\n",
    "POPULATION_SIZE = int(sqrt(UNIVERSE_SIZE) // 4)\n",
    "print(f\"{POPULATION_SIZE = }\")\n",
    "print(\n",
    "    f\"Mutating genes: {UNIVERSE_SIZE * MUTATION_PERCENT[0]:.0f} to {UNIVERSE_SIZE * MUTATION_PERCENT[1]:.0f}\"\n",
    ")"
   ]
  },
  {
   "cell_type": "code",
   "execution_count": 102,
   "metadata": {},
   "outputs": [
    {
     "data": {
      "image/png": "[encoded data removed]",
      "text/plain": [
       "<Figure size 1000x1000 with 1 Axes>"
      ]
     },
     "metadata": {},
     "output_type": "display_data"
    }
   ],
   "source": [
    "from IPython.display import display, clear_output\n",
    "import time\n",
    "\n",
    "fig1 = plt.figure(figsize=(10, 10))\n",
    "ax1 = fig1.add_subplot(111)\n",
    "# ax1.scatter([])\n",
    "\n",
    "best_geneset_overall = None\n",
    "best_cost_overall = float(\"inf\")\n",
    "best_round = 0\n",
    "best_round_iterations = 0\n",
    "total_iterations = 0\n",
    "\n",
    "start = time.time()\n",
    "for round in range(1, ROUNDS + 1):\n",
    "    # Init\n",
    "    genesets = np.empty((POPULATION_SIZE, NUM_SETS), dtype=bool)\n",
    "    for i in range(POPULATION_SIZE):\n",
    "        geneset = None\n",
    "        while not valid(geneset):\n",
    "            geneset = rng.random(NUM_SETS) < 0.5\n",
    "        genesets[i] = geneset\n",
    "    costs = np.array([cost(g) for g in genesets])\n",
    "    best_cost = min(costs)\n",
    "    last_best_cost = best_cost\n",
    "    iters = 0\n",
    "    stale_iterations = 0\n",
    "    # history = [costs]\n",
    "    history = [last_best_cost]\n",
    "    while True:\n",
    "        iters += 1\n",
    "        stale_iterations += 1\n",
    "        mutated_genesets = mutate(\n",
    "            genesets,\n",
    "            min_mutations_percent=MUTATION_PERCENT[0],\n",
    "            max_mutations_percent=MUTATION_PERCENT[1],\n",
    "        )\n",
    "        population = np.concatenate([genesets, cross(mutated_genesets)], axis=0)\n",
    "        genesets, costs = select(population, n=POPULATION_SIZE)\n",
    "        best_cost = min(costs)\n",
    "\n",
    "        if best_cost < last_best_cost:\n",
    "            stale_iterations = 0\n",
    "            last_best_cost = best_cost\n",
    "\n",
    "        # history.append(costs)\n",
    "        history.append(last_best_cost)\n",
    "        if iters % 100 == 0:\n",
    "            ax1.cla()\n",
    "            ax1.set_title(f\"Round {round}/{ROUNDS} - Best cost: {last_best_cost:.2f}\")\n",
    "            # for i, h in enumerate(history):\n",
    "            #    ax1.scatter([i]*len(h), h, color='blue', alpha=1/POPULATION_SIZE, marker='.')\n",
    "            # ax1.set_yscale('log')\n",
    "            ax1.plot(history)\n",
    "            ax1.set_yscale(\"log\")\n",
    "            display(fig1)\n",
    "            clear_output(wait=True)\n",
    "            plt.pause(0.1)\n",
    "\n",
    "        if best_cost <= UNIVERSE_SIZE:\n",
    "            break\n",
    "        if iters > 1000 and stale_iterations / iters > 0.3:\n",
    "            break\n",
    "    total_iterations += iters\n",
    "\n",
    "    if last_best_cost < best_cost_overall:\n",
    "        best_cost_overall = last_best_cost\n",
    "        best_geneset_overall = genesets[0]\n",
    "        best_round = round\n",
    "        best_round_iterations = iters\n",
    "    if best_cost <= UNIVERSE_SIZE:\n",
    "        print(\"Found optimal solution\")\n",
    "        break\n",
    "elapsed = time.time() - start"
   ]
  },
  {
   "cell_type": "code",
   "execution_count": 103,
   "metadata": {},
   "outputs": [
    {
     "name": "stdout",
     "output_type": "stream",
     "text": [
      "Elapsed time: 15m 47.78s\n",
      "Best cost: 1501871.936483712\n",
      "Total number of iterations: 13510\n",
      "Best round: 2/5\n",
      "Iterations in round 2: 7765\n",
      "Selected sets: [array([  5,   7,  10,  12,  19,  22,  24,  25,  28,  32,  33,  34,  36,\n",
      "        37,  39,  40,  41,  49,  50,  51,  54,  55,  59,  63,  65,  69,\n",
      "        71,  72,  85,  91,  93,  95,  99, 100, 103, 104, 105, 107, 110,\n",
      "       113, 117, 119, 122, 124, 127, 128, 129, 131, 132, 134, 140, 142,\n",
      "       143, 144, 145, 147, 153, 157, 158, 161, 165, 168, 170, 175, 180,\n",
      "       183, 186, 187, 188, 194, 196, 197, 204, 208, 210, 211, 212, 213,\n",
      "       215, 217, 218, 219, 220, 226, 228, 230, 232, 233, 236, 240, 244,\n",
      "       246, 255, 257, 262, 264, 265, 266, 270, 271, 273, 278, 279, 286,\n",
      "       287, 294, 297, 299, 301, 302, 303, 305, 306, 307, 312, 314, 316,\n",
      "       320, 321, 329, 330, 334, 336, 337, 339, 343, 344, 345, 347, 350,\n",
      "       351, 352, 355, 356, 361, 365, 366, 368, 370, 371, 372, 375, 380,\n",
      "       381, 382, 383, 386, 387, 394, 397, 405, 406, 407, 409, 416, 423,\n",
      "       426, 428, 433, 434, 440, 441, 443, 445, 451, 453, 456, 457, 459,\n",
      "       462, 466, 467, 468, 472, 474, 475, 480, 481, 482, 483, 484, 485,\n",
      "       486, 492, 498, 503, 509, 512, 514, 516, 518, 523, 525, 526, 533,\n",
      "       534, 536, 539, 540, 541, 549, 550, 552, 553, 555, 556, 565, 567,\n",
      "       570, 571, 576, 579, 581, 585, 586, 592, 594, 595, 596, 597, 598,\n",
      "       601, 602, 603, 606, 614, 618, 625, 627, 636, 638, 640, 644, 646,\n",
      "       647, 649, 655, 656, 657, 660, 661, 662, 665, 671, 673, 674, 675,\n",
      "       676, 679, 683, 684, 686, 690, 691, 692, 693, 694, 701, 702, 706,\n",
      "       708, 720, 721, 733, 736, 737, 741, 745, 748, 750, 751, 754, 756,\n",
      "       758, 765, 771, 772, 777, 779, 780, 782, 783, 785, 792, 793, 794,\n",
      "       798, 801, 807, 812, 814, 816, 821, 823, 824, 826, 831, 835, 836,\n",
      "       837, 839, 840, 842, 843, 847, 848, 849, 856, 857, 860, 863, 864,\n",
      "       868, 872, 880, 883, 891, 900, 904, 909, 912, 922, 923, 924, 926,\n",
      "       928, 929, 932, 933, 934, 937, 939, 941, 942, 948, 950, 959, 965,\n",
      "       967, 968, 969, 975, 978, 981, 984, 985, 987, 988, 991, 997, 999])]\n"
     ]
    }
   ],
   "source": [
    "minutes = int(elapsed // 60)\n",
    "seconds = elapsed % 60\n",
    "print(f\"Elapsed time: {minutes}m {seconds:.2f}s\")\n",
    "print(f\"Best cost: {best_cost_overall}\")\n",
    "print(f\"Total number of iterations: {total_iterations}\")\n",
    "print(f\"Best round: {best_round}/{ROUNDS}\")\n",
    "print(f\"Iterations in round {best_round}: {best_round_iterations}\")\n",
    "\n",
    "print(f\"Selected sets: {list(np.nonzero(best_geneset_overall))}\")\n",
    "# plt.imshow(SETS[best_geneset_overall])\n",
    "\n",
    "if not valid(best_geneset_overall):\n",
    "    print(\"Something terrible happened!\")"
   ]
  }
 ],
 "metadata": {
  "kernelspec": {
   "display_name": "Python 3",
   "language": "python",
   "name": "python3"
  },
  "language_info": {
   "codemirror_mode": {
    "name": "ipython",
    "version": 3
   },
   "file_extension": ".py",
   "mimetype": "text/x-python",
   "name": "python",
   "nbconvert_exporter": "python",
   "pygments_lexer": "ipython3",
   "version": "3.11.9"
  }
 },
 "nbformat": 4,
 "nbformat_minor": 2
}
